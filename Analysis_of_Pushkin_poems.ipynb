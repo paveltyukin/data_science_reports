{
 "cells": [
  {
   "cell_type": "markdown",
   "metadata": {},
   "source": [
    "## Анализ стихотворений Пушкина А.С. на предмет 10 самых частовстречающихся слов"
   ]
  },
  {
   "cell_type": "code",
   "execution_count": 1,
   "metadata": {},
   "outputs": [],
   "source": [
    "import nltk\n",
    "import pandas as pd\n",
    "import warnings\n",
    "from collections import Counter\n",
    "warnings.filterwarnings('ignore')"
   ]
  },
  {
   "cell_type": "markdown",
   "metadata": {},
   "source": [
    "Загружаю стоп слова"
   ]
  },
  {
   "cell_type": "code",
   "execution_count": 2,
   "metadata": {},
   "outputs": [
    {
     "name": "stderr",
     "output_type": "stream",
     "text": [
      "[nltk_data] Downloading package stopwords to\n",
      "[nltk_data]     /Users/paveltukin/nltk_data...\n",
      "[nltk_data]   Package stopwords is already up-to-date!\n"
     ]
    }
   ],
   "source": [
    "nltk.download('stopwords');"
   ]
  },
  {
   "cell_type": "code",
   "execution_count": 3,
   "metadata": {
    "scrolled": true
   },
   "outputs": [
    {
     "data": {
      "text/plain": [
       "['и', 'в', 'во', 'не', 'что', 'он', 'на', 'я', 'с', 'со']"
      ]
     },
     "execution_count": 3,
     "metadata": {},
     "output_type": "execute_result"
    }
   ],
   "source": [
    "from nltk.corpus import stopwords\n",
    "stopwords.words(\"russian\")[:10]"
   ]
  },
  {
   "cell_type": "code",
   "execution_count": 4,
   "metadata": {},
   "outputs": [],
   "source": [
    "stop_words = stopwords.words(\"russian\")"
   ]
  },
  {
   "cell_type": "markdown",
   "metadata": {},
   "source": [
    "#### Данные были собраны с помощью scrapy. \n",
    "Они содержат все наиболее известные стихотворения."
   ]
  },
  {
   "cell_type": "code",
   "execution_count": 5,
   "metadata": {},
   "outputs": [
    {
     "data": {
      "text/html": [
       "<div>\n",
       "<style scoped>\n",
       "    .dataframe tbody tr th:only-of-type {\n",
       "        vertical-align: middle;\n",
       "    }\n",
       "\n",
       "    .dataframe tbody tr th {\n",
       "        vertical-align: top;\n",
       "    }\n",
       "\n",
       "    .dataframe thead th {\n",
       "        text-align: right;\n",
       "    }\n",
       "</style>\n",
       "<table border=\"1\" class=\"dataframe\">\n",
       "  <thead>\n",
       "    <tr style=\"text-align: right;\">\n",
       "      <th></th>\n",
       "      <th>_id</th>\n",
       "      <th>url</th>\n",
       "      <th>text</th>\n",
       "      <th>author</th>\n",
       "      <th>title</th>\n",
       "    </tr>\n",
       "  </thead>\n",
       "  <tbody>\n",
       "    <tr>\n",
       "      <th>0</th>\n",
       "      <td>5f5d033dea2f4262452d5a16</td>\n",
       "      <td>http://stih.su/monakh/</td>\n",
       "      <td>хочу воспеть как дух нечистый ада оседлан был ...</td>\n",
       "      <td>Пушкин А. С.</td>\n",
       "      <td>Монах</td>\n",
       "    </tr>\n",
       "    <tr>\n",
       "      <th>1</th>\n",
       "      <td>5f5d033fea2f4262452d5a17</td>\n",
       "      <td>http://stih.su/sleza/</td>\n",
       "      <td>вчера за чашей пуншевого с гусаром я сидел и м...</td>\n",
       "      <td>Пушкин А. С.</td>\n",
       "      <td>Слеза</td>\n",
       "    </tr>\n",
       "    <tr>\n",
       "      <th>2</th>\n",
       "      <td>5f5d0341ea2f4262452d5a18</td>\n",
       "      <td>http://stih.su/k-ney/</td>\n",
       "      <td>эльвина милый друг приди подай мне руку я вяну...</td>\n",
       "      <td>Пушкин А. С.</td>\n",
       "      <td>К ней</td>\n",
       "    </tr>\n",
       "    <tr>\n",
       "      <th>3</th>\n",
       "      <td>5f5d0344ea2f4262452d5a19</td>\n",
       "      <td>http://stih.su/favn-i-pastushka-kartiny/</td>\n",
       "      <td>i с пятнадцатой весною как лилия с зарею краса...</td>\n",
       "      <td>Пушкин С. А.</td>\n",
       "      <td>Фавн и Пастушка (Картины)</td>\n",
       "    </tr>\n",
       "    <tr>\n",
       "      <th>4</th>\n",
       "      <td>5f5d0347ea2f4262452d5a1a</td>\n",
       "      <td>http://stih.su/na-puchkovu-2/</td>\n",
       "      <td>18141815</td>\n",
       "      <td>Пушкин А. С.</td>\n",
       "      <td>На Пучкову (Пучкова, право, не смешна…)</td>\n",
       "    </tr>\n",
       "  </tbody>\n",
       "</table>\n",
       "</div>"
      ],
      "text/plain": [
       "                        _id                                       url  \\\n",
       "0  5f5d033dea2f4262452d5a16                    http://stih.su/monakh/   \n",
       "1  5f5d033fea2f4262452d5a17                     http://stih.su/sleza/   \n",
       "2  5f5d0341ea2f4262452d5a18                     http://stih.su/k-ney/   \n",
       "3  5f5d0344ea2f4262452d5a19  http://stih.su/favn-i-pastushka-kartiny/   \n",
       "4  5f5d0347ea2f4262452d5a1a             http://stih.su/na-puchkovu-2/   \n",
       "\n",
       "                                                text        author  \\\n",
       "0  хочу воспеть как дух нечистый ада оседлан был ...  Пушкин А. С.   \n",
       "1  вчера за чашей пуншевого с гусаром я сидел и м...  Пушкин А. С.   \n",
       "2  эльвина милый друг приди подай мне руку я вяну...  Пушкин А. С.   \n",
       "3  i с пятнадцатой весною как лилия с зарею краса...  Пушкин С. А.   \n",
       "4                                           18141815  Пушкин А. С.   \n",
       "\n",
       "                                     title  \n",
       "0                                    Монах  \n",
       "1                                    Слеза  \n",
       "2                                    К ней  \n",
       "3                Фавн и Пастушка (Картины)  \n",
       "4  На Пучкову (Пучкова, право, не смешна…)  "
      ]
     },
     "execution_count": 5,
     "metadata": {},
     "output_type": "execute_result"
    }
   ],
   "source": [
    "df = pd.read_csv('poetry_1.csv', index_col='Unnamed: 0')\n",
    "df.head()"
   ]
  },
  {
   "cell_type": "code",
   "execution_count": 6,
   "metadata": {},
   "outputs": [],
   "source": [
    "df.dropna(inplace=True)"
   ]
  },
  {
   "cell_type": "code",
   "execution_count": 7,
   "metadata": {},
   "outputs": [
    {
     "data": {
      "text/plain": [
       "(616, 5)"
      ]
     },
     "execution_count": 7,
     "metadata": {},
     "output_type": "execute_result"
    }
   ],
   "source": [
    "df.shape"
   ]
  },
  {
   "cell_type": "markdown",
   "metadata": {},
   "source": [
    "### Создание дополнительного столбца\n",
    "В этом столбце будут все слова за исключением стоп слов из библиотеки nltk"
   ]
  },
  {
   "cell_type": "code",
   "execution_count": 8,
   "metadata": {},
   "outputs": [],
   "source": [
    "def create_new_column(tokens):\n",
    "    filtered_tokens = []\n",
    "    tokens = str(tokens).split()\n",
    "    for token in tokens:\n",
    "        if token not in stop_words:\n",
    "            filtered_tokens.append(token)\n",
    "    return ' '.join(filtered_tokens)"
   ]
  },
  {
   "cell_type": "code",
   "execution_count": 9,
   "metadata": {
    "scrolled": false
   },
   "outputs": [],
   "source": [
    "df['tokens'] = df['text'].apply(lambda x: create_new_column(x))"
   ]
  },
  {
   "cell_type": "code",
   "execution_count": 10,
   "metadata": {},
   "outputs": [],
   "source": [
    "new_filtered_tokens = []\n",
    "def create_all_tokens(tokens):\n",
    "    new_filtered_tokens.append(tokens)"
   ]
  },
  {
   "cell_type": "code",
   "execution_count": 11,
   "metadata": {},
   "outputs": [],
   "source": [
    "df['tokens'].apply(lambda x: create_all_tokens(x));"
   ]
  },
  {
   "cell_type": "code",
   "execution_count": 12,
   "metadata": {},
   "outputs": [],
   "source": [
    "new_filtered_tokens = ' '.join(new_filtered_tokens)\n",
    "new_filtered_tokens = new_filtered_tokens.split()"
   ]
  },
  {
   "cell_type": "code",
   "execution_count": 13,
   "metadata": {},
   "outputs": [
    {
     "data": {
      "text/plain": [
       "['хочу', 'воспеть', 'дух', 'нечистый', 'ада']"
      ]
     },
     "execution_count": 13,
     "metadata": {},
     "output_type": "execute_result"
    }
   ],
   "source": [
    "new_filtered_tokens[:5]"
   ]
  },
  {
   "cell_type": "code",
   "execution_count": 14,
   "metadata": {},
   "outputs": [
    {
     "data": {
      "text/plain": [
       "[('—', 389),\n",
       " ('любви', 80),\n",
       " ('твой', 72),\n",
       " ('друг', 72),\n",
       " ('тебе', 71),\n",
       " ('моей', 68),\n",
       " ('всё', 63),\n",
       " ('ль', 62),\n",
       " ('пред', 53),\n",
       " ('иль', 48),\n",
       " ('милый', 46)]"
      ]
     },
     "execution_count": 14,
     "metadata": {},
     "output_type": "execute_result"
    }
   ],
   "source": [
    "Counter(new_filtered_tokens).most_common(11)"
   ]
  },
  {
   "cell_type": "markdown",
   "metadata": {},
   "source": [
    "### 10 самых популярных слов из стихотворений Пушкина А.С."
   ]
  },
  {
   "cell_type": "code",
   "execution_count": 15,
   "metadata": {},
   "outputs": [],
   "source": [
    "most_cnt = ['любви', 'твой', 'друг', 'тебе', 'моей', 'всё', 'ль', 'пред', 'иль', 'милый']"
   ]
  },
  {
   "cell_type": "code",
   "execution_count": null,
   "metadata": {},
   "outputs": [],
   "source": []
  }
 ],
 "metadata": {
  "kernelspec": {
   "display_name": "Python 3",
   "language": "python",
   "name": "python3"
  },
  "language_info": {
   "codemirror_mode": {
    "name": "ipython",
    "version": 3
   },
   "file_extension": ".py",
   "mimetype": "text/x-python",
   "name": "python",
   "nbconvert_exporter": "python",
   "pygments_lexer": "ipython3",
   "version": "3.7.6"
  }
 },
 "nbformat": 4,
 "nbformat_minor": 4
}
